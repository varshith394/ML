{
 "cells": [
  {
   "cell_type": "markdown",
   "id": "f265a7e5-1053-41e3-8832-61f02c0f8ac7",
   "metadata": {},
   "source": [
    "### Dictionary is the collection of key-value pairs in curly braces\n",
    "### it is multiple\n",
    "### you can access values by using keys which are assigned to the values\n",
    "### we can change the values\n",
    "### same keys cannot be assigned the values but same values can be assigned to the keys\n",
    "### you can directly update the values or u can update by using update function\n",
    "### we can give many values to a single key"
   ]
  },
  {
   "cell_type": "code",
   "execution_count": 7,
   "id": "7ab38342-5698-48fb-ac33-ef79e5d9298e",
   "metadata": {},
   "outputs": [
    {
     "data": {
      "text/plain": [
       "{'a': 1, 'b': 2, 'c': 3}"
      ]
     },
     "execution_count": 7,
     "metadata": {},
     "output_type": "execute_result"
    }
   ],
   "source": [
    "d={'a': 1, 'b': 2, 'c': 3}\n",
    "d"
   ]
  },
  {
   "cell_type": "code",
   "execution_count": 9,
   "id": "273b376b-4a7b-478f-923e-526ed382bda1",
   "metadata": {},
   "outputs": [
    {
     "data": {
      "text/plain": [
       "dict"
      ]
     },
     "execution_count": 9,
     "metadata": {},
     "output_type": "execute_result"
    }
   ],
   "source": [
    "type(d)"
   ]
  },
  {
   "cell_type": "code",
   "execution_count": 13,
   "id": "010afb28-88d5-474e-98f6-3270ac773f6f",
   "metadata": {},
   "outputs": [
    {
     "data": {
      "text/plain": [
       "{'a': 1, 'b': 95, 'c': 3}"
      ]
     },
     "execution_count": 13,
     "metadata": {},
     "output_type": "execute_result"
    }
   ],
   "source": [
    "d.update({'b': 95})\n",
    "d"
   ]
  },
  {
   "cell_type": "code",
   "execution_count": 21,
   "id": "3cc1368f-2e39-49e8-8459-5ad5502cd853",
   "metadata": {},
   "outputs": [
    {
     "data": {
      "text/plain": [
       "{'a': 1, 'b': 95, 'c': 5000000}"
      ]
     },
     "execution_count": 21,
     "metadata": {},
     "output_type": "execute_result"
    }
   ],
   "source": [
    "d.update({'c': 5000000})\n",
    "d"
   ]
  },
  {
   "cell_type": "code",
   "execution_count": 23,
   "id": "cd208ca0-657f-4315-b721-75154e34d5b4",
   "metadata": {},
   "outputs": [
    {
     "data": {
      "text/plain": [
       "{1: 394, 2: 395, 3: 396}"
      ]
     },
     "execution_count": 23,
     "metadata": {},
     "output_type": "execute_result"
    }
   ],
   "source": [
    "e={1: 394,2: 395,3: 396}\n",
    "e"
   ]
  },
  {
   "cell_type": "code",
   "execution_count": 25,
   "id": "af299987-5059-406b-8959-b98105ec1164",
   "metadata": {},
   "outputs": [
    {
     "data": {
      "text/plain": [
       "{1: 394, 2: 395, 3: 396}"
      ]
     },
     "execution_count": 25,
     "metadata": {},
     "output_type": "execute_result"
    }
   ],
   "source": [
    "e[1]\n",
    "e"
   ]
  },
  {
   "cell_type": "code",
   "execution_count": 27,
   "id": "5a66ddb6-d77c-4824-aa3f-851dd58026af",
   "metadata": {},
   "outputs": [
    {
     "data": {
      "text/plain": [
       "{1: 394, 2: 395, 3: 400}"
      ]
     },
     "execution_count": 27,
     "metadata": {},
     "output_type": "execute_result"
    }
   ],
   "source": [
    "e.update({3: 400})\n",
    "e"
   ]
  },
  {
   "cell_type": "code",
   "execution_count": 29,
   "id": "c52ccba9-d1d1-45e4-b2db-2f4737c1a830",
   "metadata": {},
   "outputs": [
    {
     "data": {
      "text/plain": [
       "{1: 394, 2: 395}"
      ]
     },
     "execution_count": 29,
     "metadata": {},
     "output_type": "execute_result"
    }
   ],
   "source": [
    "del e[3]\n",
    "e"
   ]
  },
  {
   "cell_type": "code",
   "execution_count": 31,
   "id": "38c42926-0b6f-44be-9cb4-d7d13f86d03e",
   "metadata": {},
   "outputs": [
    {
     "data": {
      "text/plain": [
       "{1: 400, 2: 395}"
      ]
     },
     "execution_count": 31,
     "metadata": {},
     "output_type": "execute_result"
    }
   ],
   "source": [
    "e[1]=400\n",
    "e\n"
   ]
  },
  {
   "cell_type": "code",
   "execution_count": 46,
   "id": "637c6ea1-e518-41ae-8e77-ff74f454e45d",
   "metadata": {},
   "outputs": [
    {
     "data": {
      "text/plain": [
       "{1: [400, 395, 396], 2: 395}"
      ]
     },
     "execution_count": 46,
     "metadata": {},
     "output_type": "execute_result"
    }
   ],
   "source": [
    "e[1]= [400,395,396]\n",
    "e"
   ]
  },
  {
   "cell_type": "code",
   "execution_count": 54,
   "id": "5fdc596d-d273-447b-b979-06fbdc9a7eaa",
   "metadata": {},
   "outputs": [
    {
     "data": {
      "text/plain": [
       "[400]"
      ]
     },
     "execution_count": 54,
     "metadata": {},
     "output_type": "execute_result"
    }
   ],
   "source": [
    "e[1][0:1]\n"
   ]
  },
  {
   "cell_type": "code",
   "execution_count": 57,
   "id": "7727826a-c518-4797-a6ef-7b5d012d92f7",
   "metadata": {},
   "outputs": [
    {
     "data": {
      "text/plain": [
       "[400, 395]"
      ]
     },
     "execution_count": 57,
     "metadata": {},
     "output_type": "execute_result"
    }
   ],
   "source": [
    "e[1][0:2]"
   ]
  },
  {
   "cell_type": "code",
   "execution_count": 59,
   "id": "b722a843-d2e4-470f-ab00-90a6f07f939e",
   "metadata": {},
   "outputs": [
    {
     "data": {
      "text/plain": [
       "list"
      ]
     },
     "execution_count": 59,
     "metadata": {},
     "output_type": "execute_result"
    }
   ],
   "source": [
    "type(e[1])"
   ]
  },
  {
   "cell_type": "code",
   "execution_count": 63,
   "id": "442dc909-11f1-4221-9955-53d0622a02ed",
   "metadata": {},
   "outputs": [
    {
     "data": {
      "text/plain": [
       "int"
      ]
     },
     "execution_count": 63,
     "metadata": {},
     "output_type": "execute_result"
    }
   ],
   "source": [
    "type(e[2])"
   ]
  },
  {
   "cell_type": "code",
   "execution_count": 69,
   "id": "5ebdd206-b852-4b9d-be7f-67e1080136d5",
   "metadata": {},
   "outputs": [
    {
     "data": {
      "text/plain": [
       "{1: [400, 395, 396], 2: 395}"
      ]
     },
     "execution_count": 69,
     "metadata": {},
     "output_type": "execute_result"
    }
   ],
   "source": [
    "e[2]\n",
    "e"
   ]
  },
  {
   "cell_type": "code",
   "execution_count": 71,
   "id": "b1e06693-b18c-4a3c-90dd-58eba81540b1",
   "metadata": {},
   "outputs": [
    {
     "data": {
      "text/plain": [
       "{1: [400, 395, 396], 2: 395}"
      ]
     },
     "execution_count": 71,
     "metadata": {},
     "output_type": "execute_result"
    }
   ],
   "source": [
    "e[1]\n",
    "e"
   ]
  },
  {
   "cell_type": "code",
   "execution_count": 81,
   "id": "070c3f98-66c2-422e-b515-35d6e5a275ac",
   "metadata": {},
   "outputs": [
    {
     "data": {
      "text/plain": [
       "{1: [400, 395, 396, 400, 400, 80000, 400000], 2: 395}"
      ]
     },
     "execution_count": 81,
     "metadata": {},
     "output_type": "execute_result"
    }
   ],
   "source": [
    "e[1].append(400000)\n",
    "e"
   ]
  },
  {
   "cell_type": "code",
   "execution_count": 83,
   "id": "729f5fc7-b516-4c86-81c4-7cda8eaf8141",
   "metadata": {},
   "outputs": [
    {
     "data": {
      "text/plain": [
       "[400, 395, 396, 400, 400, 80000, 400000]"
      ]
     },
     "execution_count": 83,
     "metadata": {},
     "output_type": "execute_result"
    }
   ],
   "source": [
    "e[1]"
   ]
  },
  {
   "cell_type": "code",
   "execution_count": 86,
   "id": "4c7d1d83-455d-46a8-9527-6094127960fb",
   "metadata": {},
   "outputs": [
    {
     "data": {
      "text/plain": [
       "395"
      ]
     },
     "execution_count": 86,
     "metadata": {},
     "output_type": "execute_result"
    }
   ],
   "source": [
    "e[2]"
   ]
  },
  {
   "cell_type": "code",
   "execution_count": 88,
   "id": "155afcf5-6113-407b-b37d-6d6868002bac",
   "metadata": {},
   "outputs": [
    {
     "data": {
      "text/plain": [
       "{1: [400, 395, 396, 400, 400, 80000, 400000], 2: 395, 3: (10, 15, 20, 25)}"
      ]
     },
     "execution_count": 88,
     "metadata": {},
     "output_type": "execute_result"
    }
   ],
   "source": [
    "e[3]=(10,15,20,25)\n",
    "e"
   ]
  },
  {
   "cell_type": "code",
   "execution_count": 92,
   "id": "ac0071c3-e2cc-4612-9f98-bb1e7d14c6e0",
   "metadata": {},
   "outputs": [
    {
     "data": {
      "text/plain": [
       "set"
      ]
     },
     "execution_count": 92,
     "metadata": {},
     "output_type": "execute_result"
    }
   ],
   "source": [
    "type({3})"
   ]
  },
  {
   "cell_type": "code",
   "execution_count": 94,
   "id": "fd81c426-f06c-4b68-8462-593071e86f4c",
   "metadata": {},
   "outputs": [
    {
     "data": {
      "text/plain": [
       "{1: [400, 395, 396, 400, 400, 80000, 400000], 2: 395, 3: (10, 15, 20, 25)}"
      ]
     },
     "execution_count": 94,
     "metadata": {},
     "output_type": "execute_result"
    }
   ],
   "source": [
    "e"
   ]
  },
  {
   "cell_type": "code",
   "execution_count": 96,
   "id": "da3b551a-b1e5-4168-bc2a-8fb776f5856e",
   "metadata": {},
   "outputs": [
    {
     "data": {
      "text/plain": [
       "{1: [400, 395, 396, 400, 400, 80000, 400000],\n",
       " 2: 395,\n",
       " 3: (10, 15, 20, 25),\n",
       " 5: {'1': ('a', 'b', 'c', 'd', [900, 9000])}}"
      ]
     },
     "execution_count": 96,
     "metadata": {},
     "output_type": "execute_result"
    }
   ],
   "source": [
    "e[5]={'1': ('a','b','c','d',[900,9000])}\n",
    "e"
   ]
  },
  {
   "cell_type": "code",
   "execution_count": null,
   "id": "efed0e51-37b7-45de-a689-b415f7c4476f",
   "metadata": {},
   "outputs": [],
   "source": []
  }
 ],
 "metadata": {
  "kernelspec": {
   "display_name": "Python [conda env:base] *",
   "language": "python",
   "name": "conda-base-py"
  },
  "language_info": {
   "codemirror_mode": {
    "name": "ipython",
    "version": 3
   },
   "file_extension": ".py",
   "mimetype": "text/x-python",
   "name": "python",
   "nbconvert_exporter": "python",
   "pygments_lexer": "ipython3",
   "version": "3.12.7"
  }
 },
 "nbformat": 4,
 "nbformat_minor": 5
}
