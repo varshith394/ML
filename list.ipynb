{
 "cells": [
  {
   "cell_type": "code",
   "execution_count": 25,
   "id": "722ff2c8-e046-4a8b-b2f9-cee9a7237e71",
   "metadata": {},
   "outputs": [
    {
     "data": {
      "text/plain": [
       "[394, 'varshith', True, False, 90.99, 11.06, 32]"
      ]
     },
     "execution_count": 25,
     "metadata": {},
     "output_type": "execute_result"
    }
   ],
   "source": [
    "a=[394,\"varshith\",True,False,90.99,11.06,32]\n",
    "a"
   ]
  },
  {
   "cell_type": "code",
   "execution_count": 27,
   "id": "fc9b3739-60ce-496c-8993-9b6216ccf0f3",
   "metadata": {},
   "outputs": [
    {
     "data": {
      "text/plain": [
       "90.99"
      ]
     },
     "execution_count": 27,
     "metadata": {},
     "output_type": "execute_result"
    }
   ],
   "source": [
    "a[4]"
   ]
  },
  {
   "cell_type": "code",
   "execution_count": 29,
   "id": "e232ff30-6f06-43e3-bdc5-d4588527a395",
   "metadata": {},
   "outputs": [
    {
     "data": {
      "text/plain": [
       "90.99"
      ]
     },
     "execution_count": 29,
     "metadata": {},
     "output_type": "execute_result"
    }
   ],
   "source": [
    "a[-3]"
   ]
  },
  {
   "cell_type": "code",
   "execution_count": 31,
   "id": "4a00768e-d4f9-409a-a709-1ae2c449c391",
   "metadata": {},
   "outputs": [
    {
     "data": {
      "text/plain": [
       "[True, False, 90.99]"
      ]
     },
     "execution_count": 31,
     "metadata": {},
     "output_type": "execute_result"
    }
   ],
   "source": [
    "a[2:5]"
   ]
  },
  {
   "cell_type": "code",
   "execution_count": 35,
   "id": "a14e4815-cef4-48b8-a983-46495ae2ba42",
   "metadata": {},
   "outputs": [
    {
     "data": {
      "text/plain": [
       "['varshith', True, False]"
      ]
     },
     "execution_count": 35,
     "metadata": {},
     "output_type": "execute_result"
    }
   ],
   "source": [
    "a[1:4]"
   ]
  },
  {
   "cell_type": "code",
   "execution_count": 44,
   "id": "a60210f8-9557-4745-a62c-cb11cd9a9393",
   "metadata": {},
   "outputs": [
    {
     "data": {
      "text/plain": [
       "['varshith', False, 11.06]"
      ]
     },
     "execution_count": 44,
     "metadata": {},
     "output_type": "execute_result"
    }
   ],
   "source": [
    "a[1:6:2]"
   ]
  },
  {
   "cell_type": "code",
   "execution_count": null,
   "id": "2802f949-9df3-4915-8f8c-aecb202db6a8",
   "metadata": {},
   "outputs": [],
   "source": []
  }
 ],
 "metadata": {
  "kernelspec": {
   "display_name": "Python [conda env:base] *",
   "language": "python",
   "name": "conda-base-py"
  },
  "language_info": {
   "codemirror_mode": {
    "name": "ipython",
    "version": 3
   },
   "file_extension": ".py",
   "mimetype": "text/x-python",
   "name": "python",
   "nbconvert_exporter": "python",
   "pygments_lexer": "ipython3",
   "version": "3.12.7"
  }
 },
 "nbformat": 4,
 "nbformat_minor": 5
}
