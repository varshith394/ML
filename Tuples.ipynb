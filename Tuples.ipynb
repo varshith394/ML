{
 "cells": [
  {
   "cell_type": "markdown",
   "id": "b0725fc2-55ed-419c-b795-4d29da06c749",
   "metadata": {},
   "source": [
    "### indexing in tuple is possible bot not in set\n",
    "### must in ()\n",
    "### if u want to append the tuple we cannot do it directly.so,first we convert tuple into list and perform the append or any other fucntions and then convert the list into tuple"
   ]
  },
  {
   "cell_type": "code",
   "execution_count": 1,
   "id": "5e1f6bd4-6963-4d7d-b767-fd64a46bb59c",
   "metadata": {},
   "outputs": [
    {
     "data": {
      "text/plain": [
       "tuple"
      ]
     },
     "execution_count": 1,
     "metadata": {},
     "output_type": "execute_result"
    }
   ],
   "source": [
    "t=(10,20,30,40,50,60)\n",
    "type(t)\n"
   ]
  },
  {
   "cell_type": "code",
   "execution_count": 53,
   "id": "40fe4524-b30d-4341-ba7c-1b2e29840d51",
   "metadata": {},
   "outputs": [
    {
     "data": {
      "text/plain": [
       "1"
      ]
     },
     "execution_count": 53,
     "metadata": {},
     "output_type": "execute_result"
    }
   ],
   "source": [
    "t.index(20)"
   ]
  },
  {
   "cell_type": "code",
   "execution_count": 47,
   "id": "26dc2f4c-b669-4a00-af9d-22f115502b26",
   "metadata": {},
   "outputs": [
    {
     "data": {
      "text/plain": [
       "[10, 20, 30, 40, 50, 60]"
      ]
     },
     "execution_count": 47,
     "metadata": {},
     "output_type": "execute_result"
    }
   ],
   "source": [
    "d=list(t)\n",
    "d"
   ]
  },
  {
   "cell_type": "code",
   "execution_count": 49,
   "id": "60341dc4-b461-4b1d-a72a-348ed1d7c4bb",
   "metadata": {},
   "outputs": [
    {
     "data": {
      "text/plain": [
       "[10, 20, 30, 40, 50, 60, 70]"
      ]
     },
     "execution_count": 49,
     "metadata": {},
     "output_type": "execute_result"
    }
   ],
   "source": [
    "d.append(70)\n",
    "d"
   ]
  },
  {
   "cell_type": "code",
   "execution_count": 51,
   "id": "87d1a666-bd72-4fc0-95e6-296df1083325",
   "metadata": {},
   "outputs": [
    {
     "data": {
      "text/plain": [
       "(10, 20, 30, 40, 50, 60, 70)"
      ]
     },
     "execution_count": 51,
     "metadata": {},
     "output_type": "execute_result"
    }
   ],
   "source": [
    "t=tuple(d)\n",
    "t"
   ]
  },
  {
   "cell_type": "code",
   "execution_count": 7,
   "id": "bd8e3bed-ba6f-4eca-992a-53623bb87bed",
   "metadata": {},
   "outputs": [
    {
     "data": {
      "text/plain": [
       "set"
      ]
     },
     "execution_count": 7,
     "metadata": {},
     "output_type": "execute_result"
    }
   ],
   "source": [
    "s={5,15,25,35,45,55,65,75}\n",
    "type(s)"
   ]
  },
  {
   "cell_type": "markdown",
   "id": "39f64ab6-9235-4210-8032-3ff915c483ee",
   "metadata": {},
   "source": [
    "### for the set in python we have discard,add,remove,update,function\n",
    "### we can perform union,intersection,difference,symmetric_difference in two sets\n",
    "###  accessing the values of set through indexing in set in not possible"
   ]
  },
  {
   "cell_type": "code",
   "execution_count": 9,
   "id": "4831a1a4-280c-471f-9155-746b7dda3756",
   "metadata": {},
   "outputs": [
    {
     "data": {
      "text/plain": [
       "{5, 15, 25, 35, 45, 55, 65, 75, 85}"
      ]
     },
     "execution_count": 9,
     "metadata": {},
     "output_type": "execute_result"
    }
   ],
   "source": [
    "s.add(85)\n",
    "s"
   ]
  },
  {
   "cell_type": "code",
   "execution_count": 21,
   "id": "9875b820-bf4a-4875-8dd9-a431ab121ddb",
   "metadata": {},
   "outputs": [
    {
     "data": {
      "text/plain": [
       "{5, 15, 25, 35, 45, 55, 75, 85}"
      ]
     },
     "execution_count": 21,
     "metadata": {},
     "output_type": "execute_result"
    }
   ],
   "source": [
    "s.remove(65)\n",
    "s"
   ]
  },
  {
   "cell_type": "code",
   "execution_count": 23,
   "id": "11f04dfb-37f0-45f1-8d74-440f1a12f079",
   "metadata": {},
   "outputs": [
    {
     "data": {
      "text/plain": [
       "{5, 15, 25, 35, 55, 75, 85}"
      ]
     },
     "execution_count": 23,
     "metadata": {},
     "output_type": "execute_result"
    }
   ],
   "source": [
    "s.discard(45)\n",
    "s"
   ]
  },
  {
   "cell_type": "code",
   "execution_count": 33,
   "id": "8e5a514d-f5a4-4119-b43b-e114510a9d46",
   "metadata": {},
   "outputs": [
    {
     "data": {
      "text/plain": [
       "{25, 45, 75, 95, 100, 105}"
      ]
     },
     "execution_count": 33,
     "metadata": {},
     "output_type": "execute_result"
    }
   ],
   "source": [
    "y={25,45,75,95,100,105}\n",
    "y"
   ]
  },
  {
   "cell_type": "code",
   "execution_count": 35,
   "id": "84cafcd8-0bb5-4118-8769-23e4b7c684be",
   "metadata": {},
   "outputs": [
    {
     "data": {
      "text/plain": [
       "{5, 15, 35, 55, 85}"
      ]
     },
     "execution_count": 35,
     "metadata": {},
     "output_type": "execute_result"
    }
   ],
   "source": [
    "s.difference(y)"
   ]
  },
  {
   "cell_type": "code",
   "execution_count": 37,
   "id": "ea0dc357-0603-4c41-97b7-c7f38a4bc8b4",
   "metadata": {},
   "outputs": [
    {
     "data": {
      "text/plain": [
       "{45, 95, 100, 105}"
      ]
     },
     "execution_count": 37,
     "metadata": {},
     "output_type": "execute_result"
    }
   ],
   "source": [
    "y.difference(s)"
   ]
  },
  {
   "cell_type": "code",
   "execution_count": 39,
   "id": "1b85223d-8e78-4e4e-840d-b55171e81109",
   "metadata": {},
   "outputs": [
    {
     "data": {
      "text/plain": [
       "{5, 15, 25, 35, 45, 55, 75, 85, 95, 100, 105}"
      ]
     },
     "execution_count": 39,
     "metadata": {},
     "output_type": "execute_result"
    }
   ],
   "source": [
    "s.union(y)"
   ]
  },
  {
   "cell_type": "code",
   "execution_count": 41,
   "id": "03a80160-8ba4-4d7a-b29d-e6234788b1ea",
   "metadata": {},
   "outputs": [
    {
     "data": {
      "text/plain": [
       "{5, 15, 25, 35, 45, 55, 75, 85, 95, 100, 105}"
      ]
     },
     "execution_count": 41,
     "metadata": {},
     "output_type": "execute_result"
    }
   ],
   "source": [
    "y.union(s)"
   ]
  },
  {
   "cell_type": "code",
   "execution_count": 43,
   "id": "bda68716-9aa3-4526-a544-f403ee7e5b1b",
   "metadata": {},
   "outputs": [
    {
     "data": {
      "text/plain": [
       "{5, 15, 35, 45, 55, 85, 95, 100, 105}"
      ]
     },
     "execution_count": 43,
     "metadata": {},
     "output_type": "execute_result"
    }
   ],
   "source": [
    "s.symmetric_difference(y)"
   ]
  },
  {
   "cell_type": "code",
   "execution_count": 45,
   "id": "12b94431-61aa-4e36-8e5c-453f31117a0f",
   "metadata": {},
   "outputs": [
    {
     "data": {
      "text/plain": [
       "{5, 15, 35, 45, 55, 85, 95, 100, 105}"
      ]
     },
     "execution_count": 45,
     "metadata": {},
     "output_type": "execute_result"
    }
   ],
   "source": [
    "y.symmetric_difference(s)"
   ]
  },
  {
   "cell_type": "code",
   "execution_count": 55,
   "id": "e3378179-ddc2-45bf-9f50-3f551f216648",
   "metadata": {},
   "outputs": [
    {
     "data": {
      "text/plain": [
       "{25, 75}"
      ]
     },
     "execution_count": 55,
     "metadata": {},
     "output_type": "execute_result"
    }
   ],
   "source": [
    "s.intersection(y)"
   ]
  },
  {
   "cell_type": "code",
   "execution_count": 57,
   "id": "9b3614c1-6cab-483f-bd5d-128255f3c3b5",
   "metadata": {},
   "outputs": [
    {
     "data": {
      "text/plain": [
       "{25, 75}"
      ]
     },
     "execution_count": 57,
     "metadata": {},
     "output_type": "execute_result"
    }
   ],
   "source": [
    "y.intersection(s)"
   ]
  },
  {
   "cell_type": "code",
   "execution_count": null,
   "id": "4b35d927-2945-44d1-ae8a-b5f5b81e852e",
   "metadata": {},
   "outputs": [],
   "source": []
  }
 ],
 "metadata": {
  "kernelspec": {
   "display_name": "Python [conda env:base] *",
   "language": "python",
   "name": "conda-base-py"
  },
  "language_info": {
   "codemirror_mode": {
    "name": "ipython",
    "version": 3
   },
   "file_extension": ".py",
   "mimetype": "text/x-python",
   "name": "python",
   "nbconvert_exporter": "python",
   "pygments_lexer": "ipython3",
   "version": "3.12.7"
  }
 },
 "nbformat": 4,
 "nbformat_minor": 5
}
